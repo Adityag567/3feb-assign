{
 "cells": [
  {
   "cell_type": "code",
   "execution_count": null,
   "id": "301fbfd3-a14d-4571-9ef1-b06b9de12600",
   "metadata": {},
   "outputs": [],
   "source": [
    "Q1. Which keyword is used to create a function? Create a function to return a list of odd numbers in the\n",
    "range of 1 to 25."
   ]
  },
  {
   "cell_type": "code",
   "execution_count": 2,
   "id": "6b3613f7-fa7e-470d-af62-0ae886828a9f",
   "metadata": {},
   "outputs": [
    {
     "name": "stdout",
     "output_type": "stream",
     "text": [
      "2 4 6 8 10 12 14 16 18 20 22 24 "
     ]
    }
   ],
   "source": [
    "#keyword used def\n",
    "\n",
    "start, end = 1,25\n",
    "for num in range(start, end +1):\n",
    "    if num%2==0:\n",
    "        print(num,end = \" \")\n"
   ]
  },
  {
   "cell_type": "code",
   "execution_count": null,
   "id": "cc9c6c6c-4810-4276-9277-6547c125ccc8",
   "metadata": {},
   "outputs": [],
   "source": [
    "Q2. Why *args and **kwargs is used in some functions? Create a function each for *args and **kwargs\n",
    "to demonstrate their use."
   ]
  },
  {
   "cell_type": "code",
   "execution_count": 5,
   "id": "94f2b179-dab7-491b-81dc-790623dd9ecf",
   "metadata": {},
   "outputs": [],
   "source": [
    "def test(*args):  #n number of argument pass in a function so it is called args,it is not keyword ,*allow to pass,it's type is tupple  \n",
    "    return args\n",
    "\n",
    "def test1(**kwargs):  #type dictionary ,key value pair.lwargs is not a keyword there is ** who pass allow to pass it.\n",
    "    return kwargs"
   ]
  },
  {
   "cell_type": "code",
   "execution_count": 6,
   "id": "4bdf5133-85e6-4976-aa11-79b9646224e9",
   "metadata": {},
   "outputs": [
    {
     "data": {
      "text/plain": [
       "{'a': [1, 2, 3], 'b': 'adi'}"
      ]
     },
     "execution_count": 6,
     "metadata": {},
     "output_type": "execute_result"
    }
   ],
   "source": [
    "test1(a = [1,2,3], b = \"adi\")"
   ]
  },
  {
   "cell_type": "code",
   "execution_count": 3,
   "id": "645c4195-558b-4f04-98a6-ffd8750f48fa",
   "metadata": {},
   "outputs": [
    {
     "data": {
      "text/plain": [
       "(1, 2, 3, 'aditya', [1, 2, 3])"
      ]
     },
     "execution_count": 3,
     "metadata": {},
     "output_type": "execute_result"
    }
   ],
   "source": [
    "test(1,2,3,\"aditya\",[1,2,3])"
   ]
  },
  {
   "cell_type": "code",
   "execution_count": null,
   "id": "8730a258-10bb-4567-8e7a-9c5b5d641253",
   "metadata": {},
   "outputs": [],
   "source": [
    "What is an iterator in python? Name the method used to initialise the iterator object and the method\n",
    "used for iteration. Use these methods to print the first five elements of the given list [2, 4, 6, 8, 10, 12, 14,\n",
    "16, 18, 20]."
   ]
  },
  {
   "cell_type": "code",
   "execution_count": 6,
   "id": "3b72567c-7225-4fec-8776-051a023e3b6c",
   "metadata": {},
   "outputs": [
    {
     "name": "stdout",
     "output_type": "stream",
     "text": [
      "2\n",
      "4\n",
      "6\n",
      "8\n",
      "10\n"
     ]
    }
   ],
   "source": [
    "\"\"\"In Python, an iterator is an object that allows you to iterate over collections of data, such as lists, tuples, dictionaries, and sets.\n",
    "The .__iter__() method of an iterator typically returns self, which holds a reference to the current object: the iterator itself. \"\"\"\n",
    "\n",
    "\n",
    "l=[2, 4, 6, 8, 10, 12, 14,\n",
    "16, 18, 20]\n",
    "ite=iter(l)\n",
    "print(next(ite))\n",
    "print(next(ite))\n",
    "print(next(ite))\n",
    "print(next(ite))\n",
    "print(next(ite))"
   ]
  },
  {
   "cell_type": "code",
   "execution_count": null,
   "id": "af39f3d4-e237-418e-a3c1-7948bdcaaff8",
   "metadata": {},
   "outputs": [],
   "source": [
    "What is a generator function in python? Why yield keyword is used? Give an example of a generator\n",
    "function."
   ]
  },
  {
   "cell_type": "code",
   "execution_count": 7,
   "id": "8e674abf-122d-4e9d-92bd-87d04c98b5f8",
   "metadata": {},
   "outputs": [],
   "source": [
    "#it is special type of function,to optimize the memory its used\n",
    "\n",
    "#yield is special keyword help to  make generator function\n",
    "\n",
    "def testfib(n):\n",
    "    a,b=0,1\n",
    "    while True:\n",
    "        yield a\n",
    "        a,b =b,a+b"
   ]
  },
  {
   "cell_type": "code",
   "execution_count": 8,
   "id": "aa5a18d2-a798-4279-ae35-a4f11d5e0db3",
   "metadata": {},
   "outputs": [
    {
     "data": {
      "text/plain": [
       "<generator object testfib at 0x7ff5a42fb680>"
      ]
     },
     "execution_count": 8,
     "metadata": {},
     "output_type": "execute_result"
    }
   ],
   "source": [
    "for i in ktestfib()"
   ]
  },
  {
   "cell_type": "code",
   "execution_count": null,
   "id": "9a6845db-aba9-47f6-84df-f291e581a2ff",
   "metadata": {},
   "outputs": [],
   "source": [
    "Q5. Create a generator function for prime numbers less than 1000. Use the next() method to print the\n",
    "first 20 prime numbers."
   ]
  },
  {
   "cell_type": "code",
   "execution_count": 42,
   "id": "6bd5bb6f-bf87-4a9b-a64a-bbe00162f505",
   "metadata": {},
   "outputs": [
    {
     "name": "stdout",
     "output_type": "stream",
     "text": [
      "3 5 7 9 11 13 15 17 19 21 "
     ]
    }
   ],
   "source": [
    "def isprime(num):\n",
    "    for i in range(2,num):\n",
    "        if num%i==0:\n",
    "            return False\n",
    "        return True\n",
    "\n",
    "def prime(n):\n",
    "    num=2\n",
    "    while n:\n",
    "        if isprime(num):\n",
    "            yield num\n",
    "            n-=1\n",
    "        num+=1  \n",
    "    return\n",
    "\n",
    "it = prime(10)\n",
    "    \n",
    "    \n",
    "for e in it:\n",
    "    print(e, end =' ')\n",
    "    "
   ]
  },
  {
   "cell_type": "code",
   "execution_count": null,
   "id": "5d122b52-1781-4401-8baf-352487fd3433",
   "metadata": {},
   "outputs": [],
   "source": [
    "Q6. Write a python program to print the \n",
    "first 10 Fibonacci numbers using a while loop."
   ]
  },
  {
   "cell_type": "code",
   "execution_count": 2,
   "id": "d37bd45a-3ac9-4a9a-99d5-f8c57ae84d82",
   "metadata": {},
   "outputs": [
    {
     "name": "stdin",
     "output_type": "stream",
     "text": [
      "enter  no 20\n"
     ]
    },
    {
     "name": "stdout",
     "output_type": "stream",
     "text": [
      "01123581321345589144233377610987159725844181"
     ]
    }
   ],
   "source": [
    "num = int(input\n",
    "n1,n2=0,1\n",
    "sum=0\n",
    "for i in range(0,num):\n",
    "    print(sum,end=\"\")\n",
    "    n1=n2\n",
    "    n2=sum\n",
    "    sum=n1+n2"
   ]
  },
  {
   "cell_type": "code",
   "execution_count": null,
   "id": "a4b206a1-0f88-41c9-88a9-b596edd6f8cc",
   "metadata": {},
   "outputs": [],
   "source": [
    "Write a List Comprehension to iterate through the given string: ‘pwskills’.\n",
    "Expected output: ['p', 'w', 's', 'k', 'i', 'l', 'l', 's']"
   ]
  },
  {
   "cell_type": "code",
   "execution_count": 4,
   "id": "b1eb6bcc-31d9-4a4a-a913-a8f15fb2134f",
   "metadata": {},
   "outputs": [
    {
     "name": "stdout",
     "output_type": "stream",
     "text": [
      "['p', 'w', 's', 'k', 'i', 'l', 'l', 's']\n"
     ]
    }
   ],
   "source": [
    "l=[]\n",
    "for i in 'pwskills':\n",
    "    l.append(i)\n",
    "print(l)    "
   ]
  },
  {
   "cell_type": "code",
   "execution_count": null,
   "id": "314c8a44-6a80-4dd2-82fb-1370b38de6c1",
   "metadata": {},
   "outputs": [],
   "source": []
  },
  {
   "cell_type": "code",
   "execution_count": null,
   "id": "a409d48b-ad70-4e57-a157-a1508992afd3",
   "metadata": {},
   "outputs": [],
   "source": [
    "Write a python program to check whether a given number is Palindrome or not using a while loop."
   ]
  },
  {
   "cell_type": "code",
   "execution_count": 3,
   "id": "c22aaa33-595a-4ad1-b372-bf532a0ab738",
   "metadata": {},
   "outputs": [
    {
     "name": "stdin",
     "output_type": "stream",
     "text": [
      "enter number 121\n"
     ]
    },
    {
     "name": "stdout",
     "output_type": "stream",
     "text": [
      "number is palindreome\n"
     ]
    }
   ],
   "source": [
    "n=int(input(\"enter number\"))\n",
    "ten=n\n",
    "rev=0\n",
    "while(n>0):\n",
    "    dig=n%10\n",
    "    rev=rev*10+dig\n",
    "    n=n//10\n",
    "if ten==rev:\n",
    "    print(\"number is palindreome\")\n",
    "else:\n",
    "    print(\"number is not palindrome\")"
   ]
  },
  {
   "cell_type": "code",
   "execution_count": null,
   "id": "52f0cb4c-522e-488f-9e2d-366d9ab21dd7",
   "metadata": {},
   "outputs": [],
   "source": [
    "Q9. Write a code to print odd numbers from 1 to 100 using list comprehension.\n",
    "Note: Use a list comprehension to create a list from 1 to 100 and use another List comprehension to filter\n",
    "out odd numbers."
   ]
  },
  {
   "cell_type": "code",
   "execution_count": 2,
   "id": "440ba80f-d023-4b02-a0c0-f46a88a4f824",
   "metadata": {},
   "outputs": [],
   "source": [
    "l=list(range(1,100))"
   ]
  },
  {
   "cell_type": "code",
   "execution_count": 3,
   "id": "b825464b-6b26-4b2e-8e0d-d321a34f267d",
   "metadata": {},
   "outputs": [
    {
     "data": {
      "text/plain": [
       "[1,\n",
       " 3,\n",
       " 5,\n",
       " 7,\n",
       " 9,\n",
       " 11,\n",
       " 13,\n",
       " 15,\n",
       " 17,\n",
       " 19,\n",
       " 21,\n",
       " 23,\n",
       " 25,\n",
       " 27,\n",
       " 29,\n",
       " 31,\n",
       " 33,\n",
       " 35,\n",
       " 37,\n",
       " 39,\n",
       " 41,\n",
       " 43,\n",
       " 45,\n",
       " 47,\n",
       " 49,\n",
       " 51,\n",
       " 53,\n",
       " 55,\n",
       " 57,\n",
       " 59,\n",
       " 61,\n",
       " 63,\n",
       " 65,\n",
       " 67,\n",
       " 69,\n",
       " 71,\n",
       " 73,\n",
       " 75,\n",
       " 77,\n",
       " 79,\n",
       " 81,\n",
       " 83,\n",
       " 85,\n",
       " 87,\n",
       " 89,\n",
       " 91,\n",
       " 93,\n",
       " 95,\n",
       " 97,\n",
       " 99]"
      ]
     },
     "execution_count": 3,
     "metadata": {},
     "output_type": "execute_result"
    }
   ],
   "source": [
    "list(filter(lambda x:x%2==1,l)) \n"
   ]
  },
  {
   "cell_type": "code",
   "execution_count": null,
   "id": "ae4ce3e3-682e-4436-9b91-505ee1ab949d",
   "metadata": {},
   "outputs": [],
   "source": []
  },
  {
   "cell_type": "code",
   "execution_count": null,
   "id": "f2b785f6-d572-43af-9ea8-b83784cba0e6",
   "metadata": {},
   "outputs": [],
   "source": []
  },
  {
   "cell_type": "code",
   "execution_count": null,
   "id": "8cf27d21-63f2-4261-97e9-a5812e6a7fc2",
   "metadata": {},
   "outputs": [],
   "source": []
  }
 ],
 "metadata": {
  "kernelspec": {
   "display_name": "Python 3 (ipykernel)",
   "language": "python",
   "name": "python3"
  },
  "language_info": {
   "codemirror_mode": {
    "name": "ipython",
    "version": 3
   },
   "file_extension": ".py",
   "mimetype": "text/x-python",
   "name": "python",
   "nbconvert_exporter": "python",
   "pygments_lexer": "ipython3",
   "version": "3.10.8"
  }
 },
 "nbformat": 4,
 "nbformat_minor": 5
}
